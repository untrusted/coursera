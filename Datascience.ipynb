{
 "cells": [
  {
   "cell_type": "markdown",
   "id": "a666ece5",
   "metadata": {},
   "source": [
    "# My Jupyter Notebook on IBM Watson Studio"
   ]
  },
  {
   "cell_type": "markdown",
   "id": "a1c5e4b8",
   "metadata": {},
   "source": [
    "**Jeff M**"
   ]
  },
  {
   "cell_type": "markdown",
   "id": "de60a299",
   "metadata": {},
   "source": [
    "*I am interested in Data Science because of the job field prospects*"
   ]
  },
  {
   "cell_type": "markdown",
   "id": "b5fe1a58",
   "metadata": {},
   "source": [
    "***Below is a Python program that compares numbers to see if they are smaller than the variable smallest_so_far.***"
   ]
  },
  {
   "cell_type": "code",
   "execution_count": 4,
   "id": "d729c25f",
   "metadata": {},
   "outputs": [
    {
     "name": "stdout",
     "output_type": "stream",
     "text": [
      "3\n"
     ]
    }
   ],
   "source": [
    "smallest_so_far = 20\n",
    "for the_num in [9, 41, 12, 3, 74, 15] :\n",
    "   if the_num < smallest_so_far :\n",
    "      smallest_so_far = the_num\n",
    "print(smallest_so_far)"
   ]
  },
  {
   "cell_type": "markdown",
   "id": "10bfda09",
   "metadata": {},
   "source": [
    "* This is a bullet list\n",
    "* This is a bullet list\n",
    "* This is a bullet list\n",
    "\n",
    "`Here is a highlight!`\n",
    "\n",
    "Below this is a horizontal line\n",
    "\n",
    "***\n",
    "\n",
    "<a href=\"https://www.google.com\" target=\"_blank\">hyperlinked words</a>"
   ]
  }
 ],
 "metadata": {
  "kernelspec": {
   "display_name": "Python 3 (ipykernel)",
   "language": "python",
   "name": "python3"
  },
  "language_info": {
   "codemirror_mode": {
    "name": "ipython",
    "version": 3
   },
   "file_extension": ".py",
   "mimetype": "text/x-python",
   "name": "python",
   "nbconvert_exporter": "python",
   "pygments_lexer": "ipython3",
   "version": "3.9.7"
  }
 },
 "nbformat": 4,
 "nbformat_minor": 5
}

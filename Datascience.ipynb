{
 "cells": [
  {
   "cell_type": "markdown",
   "id": "a666ece5",
   "metadata": {},
   "source": [
    "My Jupyter Notebook on IBM Watson Studio"
   ]
  },
  {
   "cell_type": "code",
   "execution_count": null,
   "id": "68b428b1",
   "metadata": {},
   "outputs": [],
   "source": [
    "Jeff M"
   ]
  },
  {
   "cell_type": "code",
   "execution_count": null,
   "id": "f86f96f7",
   "metadata": {},
   "outputs": [],
   "source": [
    "Interested in Data Science because of the job field."
   ]
  },
  {
   "cell_type": "code",
   "execution_count": null,
   "id": "9d277aca",
   "metadata": {},
   "outputs": [],
   "source": [
    "Below is a Python program that compares numbers to see if they are smaller than the variable smallest_so_far."
   ]
  },
  {
   "cell_type": "code",
   "execution_count": 4,
   "id": "d729c25f",
   "metadata": {},
   "outputs": [
    {
     "name": "stdout",
     "output_type": "stream",
     "text": [
      "3\n"
     ]
    }
   ],
   "source": [
    "smallest_so_far = 20\n",
    "for the_num in [9, 41, 12, 3, 74, 15] :\n",
    "   if the_num < smallest_so_far :\n",
    "      smallest_so_far = the_num\n",
    "print(smallest_so_far)"
   ]
  },
  {
   "cell_type": "code",
   "execution_count": null,
   "id": "abe68b47",
   "metadata": {},
   "outputs": [],
   "source": [
    "Some of the formatting is missing because Watson Studio is not working!"
   ]
  },
  {
   "cell_type": "code",
   "execution_count": null,
   "id": "7de88c43",
   "metadata": {},
   "outputs": [],
   "source": []
  }
 ],
 "metadata": {
  "kernelspec": {
   "display_name": "Python 3 (ipykernel)",
   "language": "python",
   "name": "python3"
  },
  "language_info": {
   "codemirror_mode": {
    "name": "ipython",
    "version": 3
   },
   "file_extension": ".py",
   "mimetype": "text/x-python",
   "name": "python",
   "nbconvert_exporter": "python",
   "pygments_lexer": "ipython3",
   "version": "3.9.7"
  }
 },
 "nbformat": 4,
 "nbformat_minor": 5
}
